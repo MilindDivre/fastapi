{
 "cells": [
  {
   "cell_type": "code",
   "execution_count": 8,
   "id": "5fabffcd",
   "metadata": {},
   "outputs": [],
   "source": [
    "from langgraph.graph import StateGraph, START, END\n",
    "from typing import TypedDict, Literal\n",
    "from langgraph.checkpoint.memory import InMemorySaver\n",
    "\n",
    "class ChatState(TypedDict):\n",
    "    user_input: str\n",
    "    intent: Literal[\"greeting\", \"question\", \"complaint\", \"other\"]\n",
    "    response: str\n",
    "\n",
    "def identify_intent(state: ChatState):\n",
    "    text = state[\"user_input\"].lower()\n",
    "    if \"hello\" in text or \"hi\" in text:\n",
    "        return {\"intent\": \"greeting\"}\n",
    "    elif \"?\" in text:\n",
    "        return {\"intent\": \"question\"}\n",
    "    elif \"problem\" in text or \"not working\" in text:\n",
    "        return {\"intent\": \"complaint\"}\n",
    "    else:\n",
    "        return {\"intent\": \"other\"}\n",
    "\n",
    "def handle_greeting(state: ChatState):\n",
    "    return {\"response\": \"Hello! How can I help you today?\"}\n",
    "\n",
    "def handle_question(state: ChatState):\n",
    "    return {\"response\": \"That's a great question! Let me find the answer.\"}\n",
    "\n",
    "def handle_complaint(state: ChatState):\n",
    "    return {\"response\": \"I'm sorry to hear that. Can you provide more details?\"}\n",
    "\n",
    "def handle_other(state: ChatState):\n",
    "    return {\"response\": \"Can you please clarify your request?\"}\n",
    "\n",
    "def route_intent(state: ChatState):\n",
    "    return state[\"intent\"]\n",
    "\n",
    "graph = StateGraph(ChatState)\n",
    "graph.add_node(\"identify_intent\", identify_intent)\n",
    "graph.add_node(\"handle_greeting\", handle_greeting)\n",
    "graph.add_node(\"handle_question\", handle_question)\n",
    "graph.add_node(\"handle_complaint\", handle_complaint)\n",
    "graph.add_node(\"handle_other\", handle_other)\n",
    "\n",
    "graph.add_edge(START, \"identify_intent\")\n",
    "graph.add_conditional_edges(\"identify_intent\", route_intent, {\n",
    "    \"greeting\": \"handle_greeting\",\n",
    "    \"question\": \"handle_question\",\n",
    "    \"complaint\": \"handle_complaint\",\n",
    "    \"other\": \"handle_other\"\n",
    "})\n",
    "graph.add_edge(\"handle_greeting\", END)\n",
    "graph.add_edge(\"handle_question\", END)\n",
    "graph.add_edge(\"handle_complaint\", END)\n",
    "graph.add_edge(\"handle_other\", END)\n",
    "checkpoint_saver = InMemorySaver()\n",
    "workflow = graph.compile(checkpointer=checkpoint_saver)"
   ]
  },
  {
   "cell_type": "code",
   "execution_count": 10,
   "id": "fd2dce7c",
   "metadata": {},
   "outputs": [
    {
     "data": {
      "text/plain": [
       "{'user_input': 'what is python?',\n",
       " 'intent': 'question',\n",
       " 'response': \"That's a great question! Let me find the answer.\"}"
      ]
     },
     "execution_count": 10,
     "metadata": {},
     "output_type": "execute_result"
    }
   ],
   "source": [
    "config1 = {\"configurable\":{\"thread_id\":\"1\"}}\n",
    "workflow.invoke({\n",
    "    \"user_input\": \"what is python?\"\n",
    "},config=config1)"
   ]
  },
  {
   "cell_type": "code",
   "execution_count": null,
   "id": "ff8f03cb",
   "metadata": {},
   "outputs": [
    {
     "data": {
      "text/plain": [
       "StateSnapshot(values={'user_input': 'what is python?', 'intent': 'question', 'response': \"That's a great question! Let me find the answer.\"}, next=(), config={'configurable': {'thread_id': '1', 'checkpoint_ns': '', 'checkpoint_id': '1f074953-82f9-620b-8002-4dbb5582f1c3'}}, metadata={'source': 'loop', 'step': 2, 'parents': {}, 'thread_id': '1'}, created_at='2025-08-08T20:21:09.007617+00:00', parent_config={'configurable': {'thread_id': '1', 'checkpoint_ns': '', 'checkpoint_id': '1f074953-82f9-620a-8001-7b1e552f75e9'}}, tasks=(), interrupts=())"
      ]
     },
     "execution_count": 12,
     "metadata": {},
     "output_type": "execute_result"
    }
   ],
   "source": [
    "workflow.get_state(config1) # This will return final state of the workflow"
   ]
  },
  {
   "cell_type": "code",
   "execution_count": 13,
   "id": "e1f56189",
   "metadata": {},
   "outputs": [
    {
     "data": {
      "text/plain": [
       "[StateSnapshot(values={'user_input': 'what is python?', 'intent': 'question', 'response': \"That's a great question! Let me find the answer.\"}, next=(), config={'configurable': {'thread_id': '1', 'checkpoint_ns': '', 'checkpoint_id': '1f074953-82f9-620b-8002-4dbb5582f1c3'}}, metadata={'source': 'loop', 'step': 2, 'parents': {}, 'thread_id': '1'}, created_at='2025-08-08T20:21:09.007617+00:00', parent_config={'configurable': {'thread_id': '1', 'checkpoint_ns': '', 'checkpoint_id': '1f074953-82f9-620a-8001-7b1e552f75e9'}}, tasks=(), interrupts=()),\n",
       " StateSnapshot(values={'user_input': 'what is python?', 'intent': 'question'}, next=('handle_question',), config={'configurable': {'thread_id': '1', 'checkpoint_ns': '', 'checkpoint_id': '1f074953-82f9-620a-8001-7b1e552f75e9'}}, metadata={'source': 'loop', 'step': 1, 'parents': {}, 'thread_id': '1'}, created_at='2025-08-08T20:21:09.007617+00:00', parent_config={'configurable': {'thread_id': '1', 'checkpoint_ns': '', 'checkpoint_id': '1f074953-82f4-63f1-8000-aed360e1d1b5'}}, tasks=(PregelTask(id='66209914-05ba-5967-ad10-16619dd664fc', name='handle_question', path=('__pregel_pull', 'handle_question'), error=None, interrupts=(), state=None, result={'response': \"That's a great question! Let me find the answer.\"}),), interrupts=()),\n",
       " StateSnapshot(values={'user_input': 'what is python?'}, next=('identify_intent',), config={'configurable': {'thread_id': '1', 'checkpoint_ns': '', 'checkpoint_id': '1f074953-82f4-63f1-8000-aed360e1d1b5'}}, metadata={'source': 'loop', 'step': 0, 'parents': {}, 'thread_id': '1'}, created_at='2025-08-08T20:21:09.005617+00:00', parent_config={'configurable': {'thread_id': '1', 'checkpoint_ns': '', 'checkpoint_id': '1f074953-82f1-6ce8-bfff-d34fa93cb924'}}, tasks=(PregelTask(id='3995c2c0-acbf-c740-1110-28e953e73785', name='identify_intent', path=('__pregel_pull', 'identify_intent'), error=None, interrupts=(), state=None, result={'intent': 'question'}),), interrupts=()),\n",
       " StateSnapshot(values={}, next=('__start__',), config={'configurable': {'thread_id': '1', 'checkpoint_ns': '', 'checkpoint_id': '1f074953-82f1-6ce8-bfff-d34fa93cb924'}}, metadata={'source': 'input', 'step': -1, 'parents': {}, 'thread_id': '1'}, created_at='2025-08-08T20:21:09.004618+00:00', parent_config=None, tasks=(PregelTask(id='12f9aa52-1dbb-b591-ace8-86aa5fab19af', name='__start__', path=('__pregel_pull', '__start__'), error=None, interrupts=(), state=None, result={'user_input': 'what is python?'}),), interrupts=())]"
      ]
     },
     "execution_count": 13,
     "metadata": {},
     "output_type": "execute_result"
    }
   ],
   "source": [
    "list(workflow.get_state_history(config1))  # This will return all keys in the state"
   ]
  },
  {
   "cell_type": "code",
   "execution_count": null,
   "id": "5b34551a",
   "metadata": {},
   "outputs": [],
   "source": []
  }
 ],
 "metadata": {
  "kernelspec": {
   "display_name": "myenv",
   "language": "python",
   "name": "python3"
  },
  "language_info": {
   "codemirror_mode": {
    "name": "ipython",
    "version": 3
   },
   "file_extension": ".py",
   "mimetype": "text/x-python",
   "name": "python",
   "nbconvert_exporter": "python",
   "pygments_lexer": "ipython3",
   "version": "3.12.9"
  }
 },
 "nbformat": 4,
 "nbformat_minor": 5
}
